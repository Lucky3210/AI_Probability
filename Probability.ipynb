{
  "nbformat": 4,
  "nbformat_minor": 0,
  "metadata": {
    "colab": {
      "provenance": [],
      "gpuType": "T4"
    },
    "kernelspec": {
      "name": "python3",
      "display_name": "Python 3"
    },
    "language_info": {
      "name": "python"
    },
    "accelerator": "GPU"
  },
  "cells": [
    {
      "cell_type": "code",
      "execution_count": 6,
      "metadata": {
        "id": "NcMdTYZErRfW"
      },
      "outputs": [],
      "source": [
        "# prompt: install pomegranate version 0.15.0\n",
        "\n",
        "# !pip install pomegranate==0.15.0\n",
        "from pomegranate import *\n"
      ]
    },
    {
      "cell_type": "markdown",
      "source": [
        "**BAYESIAN NETWORK**\n",
        "\n",
        "Next, we create a node representing each node in the bayesian network, in this case rain, maintenance, train and appointment. With rain being the parent node, maintenance a child node from rain and a parent node to train, etc."
      ],
      "metadata": {
        "id": "o6C7llSv6Y5O"
      }
    },
    {
      "cell_type": "code",
      "source": [
        "# Rain node has no parents\n",
        "rain = Node(DiscreteDistribution({\n",
        "    \"none\": 0.7,\n",
        "    \"light\": 0.2,\n",
        "    \"heavy\": 0.1\n",
        "}), name=\"rain\")\n",
        "\n",
        "# Track maintenance node is conditional on rain\n",
        "maintenance = Node(ConditionalProbabilityTable([\n",
        "    [\"none\", \"yes\", 0.4],\n",
        "    [\"none\", \"no\", 0.6],\n",
        "    [\"light\", \"yes\", 0.2],\n",
        "    [\"light\", \"no\", 0.8],\n",
        "    [\"heavy\", \"yes\", 0.1],\n",
        "    [\"heavy\", \"no\", 0.9]\n",
        "], [rain.distribution]), name=\"maintenance\")\n",
        "\n",
        "# Train node is conditional on rain and maintenance\n",
        "train = Node(ConditionalProbabilityTable([\n",
        "    [\"none\", \"yes\", \"on time\", 0.8],\n",
        "    [\"none\", \"yes\", \"delayed\", 0.2],\n",
        "    [\"none\", \"no\", \"on time\", 0.9],\n",
        "    [\"none\", \"no\", \"delayed\", 0.1],\n",
        "    [\"light\", \"yes\", \"on time\", 0.6],\n",
        "    [\"light\", \"yes\", \"delayed\", 0.4],\n",
        "    [\"light\", \"no\", \"on time\", 0.7],\n",
        "    [\"light\", \"no\", \"delayed\", 0.3],\n",
        "    [\"heavy\", \"yes\", \"on time\", 0.4],\n",
        "    [\"heavy\", \"yes\", \"delayed\", 0.6],\n",
        "    [\"heavy\", \"no\", \"on time\", 0.5],\n",
        "    [\"heavy\", \"no\", \"delayed\", 0.5],\n",
        "], [rain.distribution, maintenance.distribution]), name=\"train\")\n",
        "\n",
        "# Appointment node is conditional on train\n",
        "appointment = Node(ConditionalProbabilityTable([\n",
        "    [\"on time\", \"attend\", 0.9],\n",
        "    [\"on time\", \"miss\", 0.1],\n",
        "    [\"delayed\", \"attend\", 0.6],\n",
        "    [\"delayed\", \"miss\", 0.4]\n",
        "], [train.distribution]), name=\"appointment\")"
      ],
      "metadata": {
        "id": "_l1U3tEP6Dri"
      },
      "execution_count": 2,
      "outputs": []
    },
    {
      "cell_type": "code",
      "source": [
        "# Create a Bayesian Network and add states\n",
        "model = BayesianNetwork()\n",
        "model.add_states(rain, maintenance, train, appointment)"
      ],
      "metadata": {
        "id": "UBO0-AMpFF5I"
      },
      "execution_count": 3,
      "outputs": []
    },
    {
      "cell_type": "code",
      "source": [
        "# Add edges connecting nodes\n",
        "model.add_edge(rain, maintenance)\n",
        "model.add_edge(rain, train)\n",
        "model.add_edge(maintenance, train)\n",
        "model.add_edge(train, appointment)"
      ],
      "metadata": {
        "id": "fSolSnZxFOIS"
      },
      "execution_count": 4,
      "outputs": []
    },
    {
      "cell_type": "code",
      "source": [
        "# Finalize model\n",
        "model.bake()"
      ],
      "metadata": {
        "id": "wrNdVH6OFe-R"
      },
      "execution_count": 5,
      "outputs": []
    },
    {
      "cell_type": "code",
      "source": [
        "# calculate the probability for a given observation\n",
        "probability = model.probability([[\"none\", \"no\", \"on time\", \"miss\"]])\n",
        "print(probability)"
      ],
      "metadata": {
        "colab": {
          "base_uri": "https://localhost:8080/"
        },
        "id": "BWR-pNyIHBDL",
        "outputId": "1732293c-180b-413a-e3a1-4bb0685012de"
      },
      "execution_count": 7,
      "outputs": [
        {
          "output_type": "stream",
          "name": "stdout",
          "text": [
            "0.037800000000000014\n"
          ]
        }
      ]
    },
    {
      "cell_type": "markdown",
      "source": [
        "We can draw inferences from our model"
      ],
      "metadata": {
        "id": "Lw4O0dNQJ_iq"
      }
    },
    {
      "cell_type": "code",
      "source": [
        "# Calculate predictions\n",
        "predictions = model.predict_proba({\n",
        "    \"train\": \"delayed\",\n",
        "    \"rain\" : \"heavy\"\n",
        "})\n",
        "\n",
        "# Print predictions for each node\n",
        "for node, prediction in zip(model.states, predictions):\n",
        "    if isinstance(prediction, str):\n",
        "        print(f\"{node.name}: {prediction}\")\n",
        "    else:\n",
        "        print(f\"{node.name}\")\n",
        "        for value, probability in prediction.parameters[0].items():\n",
        "            print(f\"    {value}: {probability:.4f}\")"
      ],
      "metadata": {
        "colab": {
          "base_uri": "https://localhost:8080/"
        },
        "id": "r3zbzB36JuFA",
        "outputId": "1cbcb96d-b822-4e9b-c3cd-5cfc9c040eb6"
      },
      "execution_count": 11,
      "outputs": [
        {
          "output_type": "stream",
          "name": "stdout",
          "text": [
            "rain: heavy\n",
            "maintenance\n",
            "    yes: 0.1176\n",
            "    no: 0.8824\n",
            "train: delayed\n",
            "appointment\n",
            "    attend: 0.6000\n",
            "    miss: 0.4000\n"
          ]
        }
      ]
    },
    {
      "cell_type": "markdown",
      "source": [
        "**MARKOV CHAIN**"
      ],
      "metadata": {
        "id": "Ok-9006dWKOg"
      }
    },
    {
      "cell_type": "code",
      "source": [
        "# Define starting probabilities/distribution\n",
        "start = DiscreteDistribution({\n",
        "    \"sun\": 0.5, # sunny 50% of the time\n",
        "    \"rain\": 0.5 # rainy 50% of the time\n",
        "})\n",
        "\n",
        "# Define transition model\n",
        "transitions = ConditionalProbabilityTable([\n",
        "    [\"sun\", \"sun\", 0.8], # if its sunny today then prob. 0.8 it will be sunny tomorrow\n",
        "    [\"sun\", \"rain\", 0.2], # if its sunny today then prob. 0.2 it will be rainy tomorrow\n",
        "    [\"rain\", \"sun\", 0.3], # if its rainy today then prob. 0.3 it will be sunny tomorrow\n",
        "    [\"rain\", \"rain\", 0.7] # if its rainy today then prob. 0.7 it will be rainy tomorrow\n",
        "], [start])"
      ],
      "metadata": {
        "id": "MkXt6LOEWGb5"
      },
      "execution_count": 7,
      "outputs": []
    },
    {
      "cell_type": "code",
      "source": [
        "# Create Markov chain\n",
        "model = MarkovChain([start, transitions])"
      ],
      "metadata": {
        "id": "_JBNBHXcaKmg"
      },
      "execution_count": 8,
      "outputs": []
    },
    {
      "cell_type": "code",
      "source": [
        "# Sample 50 states from chain, it basically sample 50 instances of the data, (sun and rain)\n",
        "\n",
        "print(model.sample(50))"
      ],
      "metadata": {
        "colab": {
          "base_uri": "https://localhost:8080/"
        },
        "id": "ntkG1sL6aVBb",
        "outputId": "4d3d390f-d3d4-42f2-a002-d50a438e27c8"
      },
      "execution_count": 9,
      "outputs": [
        {
          "output_type": "stream",
          "name": "stdout",
          "text": [
            "['rain', 'rain', 'sun', 'sun', 'rain', 'rain', 'rain', 'rain', 'sun', 'rain', 'rain', 'rain', 'sun', 'rain', 'rain', 'rain', 'rain', 'rain', 'rain', 'rain', 'rain', 'rain', 'rain', 'rain', 'rain', 'sun', 'sun', 'rain', 'rain', 'rain', 'rain', 'rain', 'sun', 'sun', 'sun', 'sun', 'sun', 'rain', 'sun', 'sun', 'sun', 'sun', 'rain', 'rain', 'sun', 'sun', 'sun', 'sun', 'sun', 'sun']\n"
          ]
        }
      ]
    },
    {
      "cell_type": "markdown",
      "source": [
        "**HIDDEN MARKOV MODEL**"
      ],
      "metadata": {
        "id": "vpRVt0IVgRWR"
      }
    },
    {
      "cell_type": "code",
      "source": [
        "# Observation model for each state\n",
        "sun = DiscreteDistribution({\n",
        "    \"umbrella\": 0.2,\n",
        "    \"no umbrella\": 0.8\n",
        "})\n",
        "\n",
        "rain = DiscreteDistribution({\n",
        "    \"umbrella\": 0.9,\n",
        "    \"no umbrella\": 0.1\n",
        "})\n",
        "\n",
        "states = [sun, rain]\n",
        "\n",
        "# Transition model\n",
        "transitions = numpy.array(\n",
        "    [[0.8, 0.2], # Tomorrow's predictions if today = sun\n",
        "     [0.3, 0.7]] # Tomorrow's predictions if today = rain\n",
        ")\n",
        "\n",
        "# Starting probabilities\n",
        "starts = numpy.array([0.5, 0.5])"
      ],
      "metadata": {
        "id": "8LOusJvTa0Dx"
      },
      "execution_count": 10,
      "outputs": []
    },
    {
      "cell_type": "code",
      "source": [
        "# Create the model\n",
        "model = HiddenMarkovModel.from_matrix(\n",
        "    transitions, states, starts,\n",
        "    state_names=[\"sun\", \"rain\"]\n",
        ")\n",
        "model.bake()\n"
      ],
      "metadata": {
        "id": "sq1D6J-KhX_p"
      },
      "execution_count": 11,
      "outputs": []
    },
    {
      "cell_type": "code",
      "source": [
        "# Observed data\n",
        "observations = [\n",
        "    \"umbrella\",\n",
        "    \"umbrella\",\n",
        "    \"no umbrella\",\n",
        "    \"umbrella\",\n",
        "    \"umbrella\",\n",
        "    \"umbrella\",\n",
        "    \"umbrella\",\n",
        "    \"no umbrella\",\n",
        "    \"no umbrella\"\n",
        "]\n",
        "\n",
        "# Predict underlying states\n",
        "predictions = model.predict(observations)\n",
        "for prediction in predictions:\n",
        "    print(model.states[prediction].name)"
      ],
      "metadata": {
        "colab": {
          "base_uri": "https://localhost:8080/"
        },
        "id": "Q5bvUyK5hgpU",
        "outputId": "9256f42e-cb7d-4e3e-896c-9e03202e2f94"
      },
      "execution_count": 12,
      "outputs": [
        {
          "output_type": "stream",
          "name": "stdout",
          "text": [
            "rain\n",
            "rain\n",
            "sun\n",
            "rain\n",
            "rain\n",
            "rain\n",
            "rain\n",
            "sun\n",
            "sun\n"
          ]
        }
      ]
    }
  ]
}